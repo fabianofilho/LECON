{
  "nbformat": 4,
  "nbformat_minor": 0,
  "metadata": {
    "colab": {
      "name": "mnist.ipynb",
      "provenance": [],
      "collapsed_sections": []
    },
    "kernelspec": {
      "display_name": "Python 3",
      "language": "python",
      "name": "python3"
    },
    "language_info": {
      "codemirror_mode": {
        "name": "ipython",
        "version": 3
      },
      "file_extension": ".py",
      "mimetype": "text/x-python",
      "name": "python",
      "nbconvert_exporter": "python",
      "pygments_lexer": "ipython3",
      "version": "3.7.3"
    }
  },
  "cells": [
    {
      "cell_type": "markdown",
      "metadata": {
        "colab_type": "text",
        "id": "UPYvqGNv59Yv"
      },
      "source": [
        "# Deep Learning with Python\n",
        "## Loading the MNIST dataset in Keras\n"
      ]
    },
    {
      "cell_type": "code",
      "metadata": {
        "id": "COb1zUi9c0fL",
        "colab_type": "code",
        "colab": {}
      },
      "source": [
        "import warnings\n",
        "warnings.filterwarnings(\"ignore\")"
      ],
      "execution_count": 0,
      "outputs": []
    },
    {
      "cell_type": "code",
      "metadata": {
        "id": "WKCDy_j5c0fQ",
        "colab_type": "code",
        "colab": {}
      },
      "source": [
        "import tensorflow as tf"
      ],
      "execution_count": 0,
      "outputs": []
    },
    {
      "cell_type": "code",
      "metadata": {
        "colab_type": "code",
        "id": "c43oWZqx3P1N",
        "outputId": "75917c67-df4a-471e-84f0-e8e921f80cbb",
        "colab": {
          "base_uri": "https://localhost:8080/",
          "height": 283
        }
      },
      "source": [
        "# Plot ad hoc mnist instances \n",
        "from keras.datasets import mnist \n",
        "import matplotlib.pyplot as plt \n",
        "# load (downloaded if needed) the MNIST dataset \n",
        "from keras.datasets import mnist \n",
        "(X_train, y_train), (X_test, y_test) = mnist.load_data() \n",
        "# plot 4 images as gray scale \n",
        "plt.subplot(221) \n",
        "plt.imshow(X_train[0], cmap=plt.get_cmap( 'gray' )) \n",
        "plt.subplot(222) \n",
        "plt.imshow(X_train[1], cmap=plt.get_cmap( 'gray' )) \n",
        "plt.subplot(223) \n",
        "plt.imshow(X_train[2], cmap=plt.get_cmap( 'gray' )) \n",
        "plt.subplot(224) \n",
        "plt.imshow(X_train[3], cmap=plt.get_cmap( 'gray' )) \n",
        "\n",
        "\n",
        "# show the plot plt.show()\n"
      ],
      "execution_count": 0,
      "outputs": [
        {
          "output_type": "execute_result",
          "data": {
            "text/plain": [
              "<matplotlib.image.AxesImage at 0x7f3cc6b7f668>"
            ]
          },
          "metadata": {
            "tags": []
          },
          "execution_count": 35
        },
        {
          "output_type": "display_data",
          "data": {
            "image/png": "[encoded data removed]",
            "text/plain": [
              "<Figure size 432x288 with 4 Axes>"
            ]
          },
          "metadata": {
            "tags": [],
            "needs_background": "light"
          }
        }
      ]
    },
    {
      "cell_type": "code",
      "metadata": {
        "id": "S7oeLv1Hc0fX",
        "colab_type": "code",
        "outputId": "d951ed1a-eb58-42e5-bd2d-584a574d3958",
        "colab": {
          "base_uri": "https://localhost:8080/",
          "height": 32
        }
      },
      "source": [
        "X_train[0].shape"
      ],
      "execution_count": 0,
      "outputs": [
        {
          "output_type": "execute_result",
          "data": {
            "text/plain": [
              "(28, 28)"
            ]
          },
          "metadata": {
            "tags": []
          },
          "execution_count": 36
        }
      ]
    },
    {
      "cell_type": "code",
      "metadata": {
        "id": "cTHr9hZpc0fa",
        "colab_type": "code",
        "outputId": "882763f3-bc72-4580-ffb1-ac92a9f96b63",
        "colab": {
          "base_uri": "https://localhost:8080/",
          "height": 32
        }
      },
      "source": [
        "X_train.shape[1]"
      ],
      "execution_count": 0,
      "outputs": [
        {
          "output_type": "execute_result",
          "data": {
            "text/plain": [
              "28"
            ]
          },
          "metadata": {
            "tags": []
          },
          "execution_count": 37
        }
      ]
    },
    {
      "cell_type": "markdown",
      "metadata": {
        "colab_type": "text",
        "id": "SHPSW3ga6EjG"
      },
      "source": [
        "## Baseline Model with Multilayer Perceptrons\n"
      ]
    },
    {
      "cell_type": "code",
      "metadata": {
        "colab_type": "code",
        "id": "FCwyJY4g3jAU",
        "colab": {}
      },
      "source": [
        "import numpy \n",
        "from keras.models import Sequential \n",
        "from keras.layers import Dense \n",
        "from keras.layers import Dropout \n",
        "from keras.utils import np_utils\n"
      ],
      "execution_count": 0,
      "outputs": []
    },
    {
      "cell_type": "code",
      "metadata": {
        "colab_type": "code",
        "id": "TltvHa034I4A",
        "colab": {}
      },
      "source": [
        "# fix random seed for reproducibility \n",
        "seed = 7 \n",
        "numpy.random.seed(seed)\n"
      ],
      "execution_count": 0,
      "outputs": []
    },
    {
      "cell_type": "code",
      "metadata": {
        "colab_type": "code",
        "id": "qVF4hhW74McD",
        "colab": {}
      },
      "source": [
        "# flatten 28*28 images to a 784 vector for each image \n",
        "num_pixels = X_train.shape[1] * X_train.shape[2] \n",
        "X_train = X_train.reshape(X_train.shape[0], num_pixels).astype( 'float32' ) \n",
        "X_test = X_test.reshape(X_test.shape[0], num_pixels).astype( 'float32' )\n"
      ],
      "execution_count": 0,
      "outputs": []
    },
    {
      "cell_type": "code",
      "metadata": {
        "colab_type": "code",
        "id": "4zNTVBet4bhi",
        "colab": {}
      },
      "source": [
        "# normalize inputs from 0-255 to 0-1 \n",
        "X_train = X_train / 255 \n",
        "X_test = X_test / 255\n"
      ],
      "execution_count": 0,
      "outputs": []
    },
    {
      "cell_type": "code",
      "metadata": {
        "id": "wS2CyR7ic0fr",
        "colab_type": "code",
        "outputId": "51793314-213e-41e9-987b-c5b3d8fc5ba1",
        "colab": {
          "base_uri": "https://localhost:8080/",
          "height": 32
        }
      },
      "source": [
        "y_train"
      ],
      "execution_count": 0,
      "outputs": [
        {
          "output_type": "execute_result",
          "data": {
            "text/plain": [
              "array([5, 0, 4, ..., 5, 6, 8], dtype=uint8)"
            ]
          },
          "metadata": {
            "tags": []
          },
          "execution_count": 42
        }
      ]
    },
    {
      "cell_type": "code",
      "metadata": {
        "colab_type": "code",
        "id": "dZw9asgq4kJw",
        "colab": {}
      },
      "source": [
        "# one hot encode outputs \n",
        "y_train = np_utils.to_categorical(y_train) \n",
        "y_test = np_utils.to_categorical(y_test) \n",
        "num_classes = y_test.shape[1]\n"
      ],
      "execution_count": 0,
      "outputs": []
    },
    {
      "cell_type": "code",
      "metadata": {
        "id": "MskQs1sQc0fu",
        "colab_type": "code",
        "outputId": "e0b91013-8e9f-4129-bf69-11fbe74eac14",
        "colab": {
          "base_uri": "https://localhost:8080/",
          "height": 32
        }
      },
      "source": [
        "num_classes"
      ],
      "execution_count": 0,
      "outputs": [
        {
          "output_type": "execute_result",
          "data": {
            "text/plain": [
              "10"
            ]
          },
          "metadata": {
            "tags": []
          },
          "execution_count": 44
        }
      ]
    },
    {
      "cell_type": "code",
      "metadata": {
        "id": "Qp6LoNKEc0fx",
        "colab_type": "code",
        "outputId": "ea4008e3-68d1-4e1f-df33-6ce5f90a0a6c",
        "colab": {
          "base_uri": "https://localhost:8080/",
          "height": 131
        }
      },
      "source": [
        "y_train"
      ],
      "execution_count": 0,
      "outputs": [
        {
          "output_type": "execute_result",
          "data": {
            "text/plain": [
              "array([[0., 0., 0., ..., 0., 0., 0.],\n",
              "       [1., 0., 0., ..., 0., 0., 0.],\n",
              "       [0., 0., 0., ..., 0., 0., 0.],\n",
              "       ...,\n",
              "       [0., 0., 0., ..., 0., 0., 0.],\n",
              "       [0., 0., 0., ..., 0., 0., 0.],\n",
              "       [0., 0., 0., ..., 0., 1., 0.]], dtype=float32)"
            ]
          },
          "metadata": {
            "tags": []
          },
          "execution_count": 45
        }
      ]
    },
    {
      "cell_type": "code",
      "metadata": {
        "colab_type": "code",
        "id": "DTuerhhr4qA2",
        "colab": {}
      },
      "source": [
        "# define baseline model \n",
        "def baseline_model():\n",
        "  model = Sequential() \n",
        "  model.add(Dense(num_pixels, input_dim=num_pixels, \n",
        "                  init= 'normal' , activation= 'relu' ))\n",
        "  model.add(Dense(num_classes, init= 'normal', \n",
        "                  activation= 'softmax')) \n",
        "  # Compile model \n",
        "  model.compile(loss='categorical_crossentropy', \n",
        "                optimizer='adam', \n",
        "                metrics=['accuracy'])\n",
        "  return model"
      ],
      "execution_count": 0,
      "outputs": []
    },
    {
      "cell_type": "code",
      "metadata": {
        "colab_type": "code",
        "id": "9lrwQb9u4-e4",
        "outputId": "a15fe456-8118-4dd8-a10a-46b5d8a61763",
        "colab": {
          "base_uri": "https://localhost:8080/",
          "height": 378
        }
      },
      "source": [
        "# build the model \n",
        "model = baseline_model() "
      ],
      "execution_count": 0,
      "outputs": [
        {
          "output_type": "stream",
          "text": [
            "Train on 60000 samples, validate on 10000 samples\n",
            "Epoch 1/10\n",
            " - 3s - loss: 0.2810 - accuracy: 0.9207 - val_loss: 0.1414 - val_accuracy: 0.9575\n",
            "Epoch 2/10\n",
            " - 2s - loss: 0.1115 - accuracy: 0.9678 - val_loss: 0.0914 - val_accuracy: 0.9714\n",
            "Epoch 3/10\n",
            " - 2s - loss: 0.0713 - accuracy: 0.9798 - val_loss: 0.0784 - val_accuracy: 0.9770\n",
            "Epoch 4/10\n",
            " - 2s - loss: 0.0502 - accuracy: 0.9858 - val_loss: 0.0743 - val_accuracy: 0.9766\n",
            "Epoch 5/10\n",
            " - 2s - loss: 0.0370 - accuracy: 0.9894 - val_loss: 0.0677 - val_accuracy: 0.9787\n",
            "Epoch 6/10\n",
            " - 2s - loss: 0.0267 - accuracy: 0.9927 - val_loss: 0.0625 - val_accuracy: 0.9805\n",
            "Epoch 7/10\n",
            " - 2s - loss: 0.0206 - accuracy: 0.9948 - val_loss: 0.0613 - val_accuracy: 0.9811\n",
            "Epoch 8/10\n",
            " - 2s - loss: 0.0139 - accuracy: 0.9969 - val_loss: 0.0621 - val_accuracy: 0.9806\n",
            "Epoch 9/10\n",
            " - 2s - loss: 0.0107 - accuracy: 0.9978 - val_loss: 0.0581 - val_accuracy: 0.9816\n",
            "Epoch 10/10\n",
            " - 2s - loss: 0.0079 - accuracy: 0.9986 - val_loss: 0.0602 - val_accuracy: 0.9812\n"
          ],
          "name": "stdout"
        },
        {
          "output_type": "execute_result",
          "data": {
            "text/plain": [
              "<keras.callbacks.callbacks.History at 0x7f3cc6e3aa58>"
            ]
          },
          "metadata": {
            "tags": []
          },
          "execution_count": 47
        }
      ]
    },
    {
      "cell_type": "code",
      "metadata": {
        "id": "zKiSvuljjXXe",
        "colab_type": "code",
        "outputId": "2800ef4e-275d-4acc-8795-11940f91fe06",
        "colab": {
          "base_uri": "https://localhost:8080/",
          "height": 362
        }
      },
      "source": [
        "history = model.fit(X_train, y_train, \n",
        "          validation_data=(X_test, y_test), \n",
        "          nb_epoch=10, batch_size=200, verbose=2) "
      ],
      "execution_count": 0,
      "outputs": [
        {
          "output_type": "stream",
          "text": [
            "Train on 60000 samples, validate on 10000 samples\n",
            "Epoch 1/10\n",
            " - 2s - loss: 0.0079 - accuracy: 0.9984 - val_loss: 0.0637 - val_accuracy: 0.9812\n",
            "Epoch 2/10\n",
            " - 2s - loss: 0.0048 - accuracy: 0.9993 - val_loss: 0.0570 - val_accuracy: 0.9830\n",
            "Epoch 3/10\n",
            " - 2s - loss: 0.0025 - accuracy: 0.9999 - val_loss: 0.0595 - val_accuracy: 0.9829\n",
            "Epoch 4/10\n",
            " - 2s - loss: 0.0020 - accuracy: 0.9998 - val_loss: 0.0591 - val_accuracy: 0.9834\n",
            "Epoch 5/10\n",
            " - 2s - loss: 0.0014 - accuracy: 0.9999 - val_loss: 0.0630 - val_accuracy: 0.9824\n",
            "Epoch 6/10\n",
            " - 2s - loss: 0.0015 - accuracy: 0.9999 - val_loss: 0.0625 - val_accuracy: 0.9830\n",
            "Epoch 7/10\n",
            " - 2s - loss: 0.0205 - accuracy: 0.9937 - val_loss: 0.0796 - val_accuracy: 0.9792\n",
            "Epoch 8/10\n",
            " - 2s - loss: 0.0092 - accuracy: 0.9972 - val_loss: 0.0852 - val_accuracy: 0.9782\n",
            "Epoch 9/10\n",
            " - 2s - loss: 0.0039 - accuracy: 0.9990 - val_loss: 0.0743 - val_accuracy: 0.9820\n",
            "Epoch 10/10\n",
            " - 2s - loss: 0.0012 - accuracy: 0.9999 - val_loss: 0.0654 - val_accuracy: 0.9832\n"
          ],
          "name": "stdout"
        }
      ]
    },
    {
      "cell_type": "code",
      "metadata": {
        "id": "9lJZ6eCmkYHl",
        "colab_type": "code",
        "outputId": "aeabf2da-74ef-4657-d162-9808c3b1dbf5",
        "colab": {
          "base_uri": "https://localhost:8080/",
          "height": 294
        }
      },
      "source": [
        "from matplotlib import pyplot as plt\n",
        "plt.plot(history.history['loss'])\n",
        "plt.plot(history.history['val_loss'])\n",
        "plt.title('model accuracy')\n",
        "plt.ylabel('accuracy')\n",
        "plt.xlabel('epoch')\n",
        "plt.legend(['train', 'val'], loc='upper left')\n",
        "plt.show()"
      ],
      "execution_count": 0,
      "outputs": [
        {
          "output_type": "display_data",
          "data": {
            "image/png": "[encoded data removed]",
            "text/plain": [
              "<Figure size 432x288 with 1 Axes>"
            ]
          },
          "metadata": {
            "tags": [],
            "needs_background": "light"
          }
        }
      ]
    },
    {
      "cell_type": "code",
      "metadata": {
        "id": "TDmJoZfcjQRQ",
        "colab_type": "code",
        "outputId": "0dc6e2ad-91d1-4215-8b07-5f2d7da9eb4e",
        "colab": {
          "base_uri": "https://localhost:8080/",
          "height": 32
        }
      },
      "source": [
        "# Final evaluation of the model \n",
        "scores = model.evaluate(X_test, y_test, verbose=0) \n",
        "print(\"Baseline Error: %.2f%%\" % (100-scores[1]*100))"
      ],
      "execution_count": 0,
      "outputs": [
        {
          "output_type": "stream",
          "text": [
            "Baseline Error: 1.68%\n"
          ],
          "name": "stdout"
        }
      ]
    },
    {
      "cell_type": "markdown",
      "metadata": {
        "colab_type": "text",
        "id": "KyFQK_Oy5584"
      },
      "source": [
        "## Simple Convolutional Neural Network for MNIST\n"
      ]
    },
    {
      "cell_type": "code",
      "metadata": {
        "id": "NLpaHtk2hmfN",
        "colab_type": "code",
        "colab": {}
      },
      "source": [
        "import tensorflow as tf\n",
        "# import keras.backend.tensorflow_backend as tfback"
      ],
      "execution_count": 0,
      "outputs": []
    },
    {
      "cell_type": "code",
      "metadata": {
        "colab_type": "code",
        "id": "R3OHPOax5Svp",
        "colab": {}
      },
      "source": [
        "import numpy \n",
        "from tensorflow.keras.datasets import mnist "
      ],
      "execution_count": 0,
      "outputs": []
    },
    {
      "cell_type": "code",
      "metadata": {
        "id": "brXzFTCGsg3H",
        "colab_type": "code",
        "colab": {}
      },
      "source": [
        "from tensorflow.keras.models import Sequential \n",
        "from tensorflow.keras.layers import Dense \n",
        "from tensorflow.keras.layers import Dropout \n",
        "from tensorflow.keras.layers import Flatten \n",
        "from tensorflow.keras.layers import Conv2D\n",
        "from tensorflow.keras.layers import MaxPooling2D "
      ],
      "execution_count": 0,
      "outputs": []
    },
    {
      "cell_type": "code",
      "metadata": {
        "id": "pxSh2nT5s3ig",
        "colab_type": "code",
        "colab": {}
      },
      "source": [
        "from tensorflow.keras.utils import to_categorical"
      ],
      "execution_count": 0,
      "outputs": []
    },
    {
      "cell_type": "code",
      "metadata": {
        "colab_type": "code",
        "id": "FvZPS6QW6c_v",
        "colab": {}
      },
      "source": [
        "# fix random seed for reproducibility \n",
        "seed = 7 \n",
        "numpy.random.seed(seed)"
      ],
      "execution_count": 0,
      "outputs": []
    },
    {
      "cell_type": "code",
      "metadata": {
        "id": "17PhznIUdjbp",
        "colab_type": "code",
        "colab": {}
      },
      "source": [
        "# # load data \n",
        "(X_train, y_train), (X_test, y_test) = mnist.load_data() \n"
      ],
      "execution_count": 0,
      "outputs": []
    },
    {
      "cell_type": "code",
      "metadata": {
        "id": "Wo7ldatheKDq",
        "colab_type": "code",
        "outputId": "752a3999-0279-4360-f447-04cea5cf9759",
        "colab": {
          "base_uri": "https://localhost:8080/",
          "height": 34
        }
      },
      "source": [
        "X_train.shape"
      ],
      "execution_count": 0,
      "outputs": [
        {
          "output_type": "execute_result",
          "data": {
            "text/plain": [
              "(60000, 28, 28)"
            ]
          },
          "metadata": {
            "tags": []
          },
          "execution_count": 50
        }
      ]
    },
    {
      "cell_type": "code",
      "metadata": {
        "colab_type": "code",
        "id": "gPwTUoEO6m25",
        "colab": {}
      },
      "source": [
        "\n",
        "# #  RGB, the ﬁrst dimension channels would be 3 \n",
        "# ## for the red, green and blue components \n",
        "# ### and it would be like having 3 image inputs for every color image. \n",
        "\n",
        "# # reshape to be [samples][channels][width][height] \n",
        "X_train = X_train.reshape(X_train.shape[0], 28, 28,1 ).astype( 'float32' ) \n",
        "X_test = X_test.reshape(X_test.shape[0], 28, 28, 1).astype( 'float32' )\n"
      ],
      "execution_count": 0,
      "outputs": []
    },
    {
      "cell_type": "code",
      "metadata": {
        "id": "cEbrTeAZd1Nm",
        "colab_type": "code",
        "outputId": "5ad0ef18-db71-4725-b597-d681ed8a87df",
        "colab": {
          "base_uri": "https://localhost:8080/",
          "height": 34
        }
      },
      "source": [
        "X_train.shape"
      ],
      "execution_count": 0,
      "outputs": [
        {
          "output_type": "execute_result",
          "data": {
            "text/plain": [
              "(60000, 28, 28, 1)"
            ]
          },
          "metadata": {
            "tags": []
          },
          "execution_count": 52
        }
      ]
    },
    {
      "cell_type": "code",
      "metadata": {
        "id": "pzeUCVZueQF7",
        "colab_type": "code",
        "outputId": "ed2ef0c5-7558-4b0f-84b6-023dd6b9db19",
        "colab": {
          "base_uri": "https://localhost:8080/",
          "height": 1000
        }
      },
      "source": [
        "X_train"
      ],
      "execution_count": 0,
      "outputs": [
        {
          "output_type": "execute_result",
          "data": {
            "text/plain": [
              "array([[[[0.],\n",
              "         [0.],\n",
              "         [0.],\n",
              "         ...,\n",
              "         [0.],\n",
              "         [0.],\n",
              "         [0.]],\n",
              "\n",
              "        [[0.],\n",
              "         [0.],\n",
              "         [0.],\n",
              "         ...,\n",
              "         [0.],\n",
              "         [0.],\n",
              "         [0.]],\n",
              "\n",
              "        [[0.],\n",
              "         [0.],\n",
              "         [0.],\n",
              "         ...,\n",
              "         [0.],\n",
              "         [0.],\n",
              "         [0.]],\n",
              "\n",
              "        ...,\n",
              "\n",
              "        [[0.],\n",
              "         [0.],\n",
              "         [0.],\n",
              "         ...,\n",
              "         [0.],\n",
              "         [0.],\n",
              "         [0.]],\n",
              "\n",
              "        [[0.],\n",
              "         [0.],\n",
              "         [0.],\n",
              "         ...,\n",
              "         [0.],\n",
              "         [0.],\n",
              "         [0.]],\n",
              "\n",
              "        [[0.],\n",
              "         [0.],\n",
              "         [0.],\n",
              "         ...,\n",
              "         [0.],\n",
              "         [0.],\n",
              "         [0.]]],\n",
              "\n",
              "\n",
              "       [[[0.],\n",
              "         [0.],\n",
              "         [0.],\n",
              "         ...,\n",
              "         [0.],\n",
              "         [0.],\n",
              "         [0.]],\n",
              "\n",
              "        [[0.],\n",
              "         [0.],\n",
              "         [0.],\n",
              "         ...,\n",
              "         [0.],\n",
              "         [0.],\n",
              "         [0.]],\n",
              "\n",
              "        [[0.],\n",
              "         [0.],\n",
              "         [0.],\n",
              "         ...,\n",
              "         [0.],\n",
              "         [0.],\n",
              "         [0.]],\n",
              "\n",
              "        ...,\n",
              "\n",
              "        [[0.],\n",
              "         [0.],\n",
              "         [0.],\n",
              "         ...,\n",
              "         [0.],\n",
              "         [0.],\n",
              "         [0.]],\n",
              "\n",
              "        [[0.],\n",
              "         [0.],\n",
              "         [0.],\n",
              "         ...,\n",
              "         [0.],\n",
              "         [0.],\n",
              "         [0.]],\n",
              "\n",
              "        [[0.],\n",
              "         [0.],\n",
              "         [0.],\n",
              "         ...,\n",
              "         [0.],\n",
              "         [0.],\n",
              "         [0.]]],\n",
              "\n",
              "\n",
              "       [[[0.],\n",
              "         [0.],\n",
              "         [0.],\n",
              "         ...,\n",
              "         [0.],\n",
              "         [0.],\n",
              "         [0.]],\n",
              "\n",
              "        [[0.],\n",
              "         [0.],\n",
              "         [0.],\n",
              "         ...,\n",
              "         [0.],\n",
              "         [0.],\n",
              "         [0.]],\n",
              "\n",
              "        [[0.],\n",
              "         [0.],\n",
              "         [0.],\n",
              "         ...,\n",
              "         [0.],\n",
              "         [0.],\n",
              "         [0.]],\n",
              "\n",
              "        ...,\n",
              "\n",
              "        [[0.],\n",
              "         [0.],\n",
              "         [0.],\n",
              "         ...,\n",
              "         [0.],\n",
              "         [0.],\n",
              "         [0.]],\n",
              "\n",
              "        [[0.],\n",
              "         [0.],\n",
              "         [0.],\n",
              "         ...,\n",
              "         [0.],\n",
              "         [0.],\n",
              "         [0.]],\n",
              "\n",
              "        [[0.],\n",
              "         [0.],\n",
              "         [0.],\n",
              "         ...,\n",
              "         [0.],\n",
              "         [0.],\n",
              "         [0.]]],\n",
              "\n",
              "\n",
              "       ...,\n",
              "\n",
              "\n",
              "       [[[0.],\n",
              "         [0.],\n",
              "         [0.],\n",
              "         ...,\n",
              "         [0.],\n",
              "         [0.],\n",
              "         [0.]],\n",
              "\n",
              "        [[0.],\n",
              "         [0.],\n",
              "         [0.],\n",
              "         ...,\n",
              "         [0.],\n",
              "         [0.],\n",
              "         [0.]],\n",
              "\n",
              "        [[0.],\n",
              "         [0.],\n",
              "         [0.],\n",
              "         ...,\n",
              "         [0.],\n",
              "         [0.],\n",
              "         [0.]],\n",
              "\n",
              "        ...,\n",
              "\n",
              "        [[0.],\n",
              "         [0.],\n",
              "         [0.],\n",
              "         ...,\n",
              "         [0.],\n",
              "         [0.],\n",
              "         [0.]],\n",
              "\n",
              "        [[0.],\n",
              "         [0.],\n",
              "         [0.],\n",
              "         ...,\n",
              "         [0.],\n",
              "         [0.],\n",
              "         [0.]],\n",
              "\n",
              "        [[0.],\n",
              "         [0.],\n",
              "         [0.],\n",
              "         ...,\n",
              "         [0.],\n",
              "         [0.],\n",
              "         [0.]]],\n",
              "\n",
              "\n",
              "       [[[0.],\n",
              "         [0.],\n",
              "         [0.],\n",
              "         ...,\n",
              "         [0.],\n",
              "         [0.],\n",
              "         [0.]],\n",
              "\n",
              "        [[0.],\n",
              "         [0.],\n",
              "         [0.],\n",
              "         ...,\n",
              "         [0.],\n",
              "         [0.],\n",
              "         [0.]],\n",
              "\n",
              "        [[0.],\n",
              "         [0.],\n",
              "         [0.],\n",
              "         ...,\n",
              "         [0.],\n",
              "         [0.],\n",
              "         [0.]],\n",
              "\n",
              "        ...,\n",
              "\n",
              "        [[0.],\n",
              "         [0.],\n",
              "         [0.],\n",
              "         ...,\n",
              "         [0.],\n",
              "         [0.],\n",
              "         [0.]],\n",
              "\n",
              "        [[0.],\n",
              "         [0.],\n",
              "         [0.],\n",
              "         ...,\n",
              "         [0.],\n",
              "         [0.],\n",
              "         [0.]],\n",
              "\n",
              "        [[0.],\n",
              "         [0.],\n",
              "         [0.],\n",
              "         ...,\n",
              "         [0.],\n",
              "         [0.],\n",
              "         [0.]]],\n",
              "\n",
              "\n",
              "       [[[0.],\n",
              "         [0.],\n",
              "         [0.],\n",
              "         ...,\n",
              "         [0.],\n",
              "         [0.],\n",
              "         [0.]],\n",
              "\n",
              "        [[0.],\n",
              "         [0.],\n",
              "         [0.],\n",
              "         ...,\n",
              "         [0.],\n",
              "         [0.],\n",
              "         [0.]],\n",
              "\n",
              "        [[0.],\n",
              "         [0.],\n",
              "         [0.],\n",
              "         ...,\n",
              "         [0.],\n",
              "         [0.],\n",
              "         [0.]],\n",
              "\n",
              "        ...,\n",
              "\n",
              "        [[0.],\n",
              "         [0.],\n",
              "         [0.],\n",
              "         ...,\n",
              "         [0.],\n",
              "         [0.],\n",
              "         [0.]],\n",
              "\n",
              "        [[0.],\n",
              "         [0.],\n",
              "         [0.],\n",
              "         ...,\n",
              "         [0.],\n",
              "         [0.],\n",
              "         [0.]],\n",
              "\n",
              "        [[0.],\n",
              "         [0.],\n",
              "         [0.],\n",
              "         ...,\n",
              "         [0.],\n",
              "         [0.],\n",
              "         [0.]]]], dtype=float32)"
            ]
          },
          "metadata": {
            "tags": []
          },
          "execution_count": 53
        }
      ]
    },
    {
      "cell_type": "code",
      "metadata": {
        "colab_type": "code",
        "id": "gZJn1dxc6yDM",
        "colab": {}
      },
      "source": [
        "# normalize inputs from 0-255 to 0-1 \n",
        "X_train = X_train / 255\n",
        "X_test = X_test / 255 \n",
        "\n",
        "# one hot encode outputs \n",
        "y_train = to_categorical(y_train) \n",
        "y_test = to_categorical(y_test) \n",
        "num_classes = y_test.shape[1]"
      ],
      "execution_count": 0,
      "outputs": []
    },
    {
      "cell_type": "markdown",
      "metadata": {
        "colab_type": "text",
        "id": "dYEKIM8y71HM"
      },
      "source": [
        "![MNIST](https://miro.medium.com/max/3288/1*uAeANQIOQPqWZnnuH-VEyw.jpeg)\n",
        "1. A primeira camada oculta é uma camada convolucional chamada Convolution2D. A camada possui 32 mapas de características, com o tamanho de 5 × 5 e uma função de ativação retificadora. Esta é a camada de entrada, esperando imagens com o contorno da estrutura acima.\n",
        "2. Em seguida, definimos uma camada de pool que aceita o valor máximo chamado MaxPooling2D. É con ﬁ gurado com um tamanho de pool de 2 × 2. 3. A próxima camada é uma camada de regularização usando o dropout chamado Dropout. Está configurado para excluir aleatoriamente 20% dos neurônios na camada, a fim de reduzir o excesso de ajustes.\n",
        "4. A seguir, é uma camada que converte os dados da matriz 2D em um vetor chamado Flatten. Ele permite que a saída seja processada por camadas totalmente conectadas padrão.\n",
        "5. Em seguida, é utilizada uma camada totalmente conectada com 128 neurônios e a função de ativação retificadora.\n",
        "6. Finalmente, a camada de saída possui 10 neurônios para as 10 classes e uma função de ativação softmax para gerar previsões do tipo probabilidade para cada classe.\n",
        "Como antes, o modelo é treinado usando perda logarítmica e o algoritmo de descida do gradiente ADAM. Uma representação da estrutura de rede é fornecida abaixo."
      ]
    },
    {
      "cell_type": "code",
      "metadata": {
        "colab_type": "code",
        "id": "3cbZq66r7IQE",
        "colab": {}
      },
      "source": [
        "def baseline_model(): \n",
        "  # create model \n",
        "  model = Sequential() \n",
        "  model.add(Conv2D(32, (3, 3), padding='VALID',\n",
        "                          input_shape=(28, 28, 1), activation= 'relu',\n",
        "                          data_format='channels_last')) \n",
        "  model.add(MaxPooling2D(pool_size=(2, 2))) \n",
        "  model.add(Dropout(0.2)) \n",
        "  model.add(Flatten()) \n",
        "  model.add(Dense(128, activation= 'relu' )) \n",
        "  model.add(Dense(num_classes, activation= 'softmax' )) \n",
        "\n",
        "\n",
        "  # Compile model \n",
        "  model.compile(loss= 'categorical_crossentropy' , \n",
        "                optimizer= 'adam' , metrics=[ 'accuracy' ]) \n",
        "  return model\n"
      ],
      "execution_count": 0,
      "outputs": []
    },
    {
      "cell_type": "code",
      "metadata": {
        "colab_type": "code",
        "id": "IO_tuwwa8de_",
        "colab": {}
      },
      "source": [
        "# build the model \n",
        "model = baseline_model() "
      ],
      "execution_count": 0,
      "outputs": []
    },
    {
      "cell_type": "code",
      "metadata": {
        "id": "lSaZGRgplCfp",
        "colab_type": "code",
        "outputId": "ec06e1a2-f676-4ba0-ddb1-5cef2903ef54",
        "colab": {
          "base_uri": "https://localhost:8080/",
          "height": 374
        }
      },
      "source": [
        "# Fit the model \n",
        "model.fit(X_train, y_train, \n",
        "          validation_data=(X_test, y_test), \n",
        "          epochs=10, batch_size=200, verbose=2) \n",
        "\n",
        "# Final evaluation of the model \n",
        "scores = model.evaluate(X_test, y_test, verbose=0)\n",
        "print('CNN Error: %.2f%%' % (100-scores[1]*100))"
      ],
      "execution_count": 0,
      "outputs": [
        {
          "output_type": "stream",
          "text": [
            "Epoch 1/10\n",
            "300/300 - 25s - loss: 0.2733 - accuracy: 0.9224 - val_loss: 0.0979 - val_accuracy: 0.9714\n",
            "Epoch 2/10\n",
            "300/300 - 25s - loss: 0.0835 - accuracy: 0.9748 - val_loss: 0.0601 - val_accuracy: 0.9807\n",
            "Epoch 3/10\n",
            "300/300 - 25s - loss: 0.0582 - accuracy: 0.9826 - val_loss: 0.0522 - val_accuracy: 0.9832\n",
            "Epoch 4/10\n",
            "300/300 - 25s - loss: 0.0466 - accuracy: 0.9862 - val_loss: 0.0502 - val_accuracy: 0.9829\n",
            "Epoch 5/10\n",
            "300/300 - 25s - loss: 0.0388 - accuracy: 0.9885 - val_loss: 0.0408 - val_accuracy: 0.9858\n",
            "Epoch 6/10\n",
            "300/300 - 29s - loss: 0.0331 - accuracy: 0.9894 - val_loss: 0.0479 - val_accuracy: 0.9837\n",
            "Epoch 7/10\n",
            "300/300 - 25s - loss: 0.0260 - accuracy: 0.9918 - val_loss: 0.0382 - val_accuracy: 0.9873\n",
            "Epoch 8/10\n",
            "300/300 - 25s - loss: 0.0236 - accuracy: 0.9928 - val_loss: 0.0396 - val_accuracy: 0.9870\n",
            "Epoch 9/10\n",
            "300/300 - 25s - loss: 0.0192 - accuracy: 0.9941 - val_loss: 0.0392 - val_accuracy: 0.9868\n",
            "Epoch 10/10\n",
            "300/300 - 25s - loss: 0.0157 - accuracy: 0.9952 - val_loss: 0.0374 - val_accuracy: 0.9878\n",
            "CNN Error: 1.22%\n"
          ],
          "name": "stdout"
        }
      ]
    },
    {
      "cell_type": "markdown",
      "metadata": {
        "colab_type": "text",
        "id": "WHBvcuFQ9trj"
      },
      "source": [
        "## Larger Convolutional Neural Network for MNIST\n"
      ]
    },
    {
      "cell_type": "markdown",
      "metadata": {
        "colab_type": "text",
        "id": "KXeb2psE_f57"
      },
      "source": [
        "1. Camada convolucional com 30 mapas de características de tamanho 5 × 5. \n",
        "2. Camada de pooling com no máximo 2 x 2 amostras. \n",
        "3. Camada convolucional com 15 mapas de características de tamanho 3x3. \n",
        "4. Camada de pooling com no máximo 2x2 amostras. \n",
        "5. Camada Dropout com uma probabilidade de 20%.\n",
        "6. Flatten a camada.\n",
        "7. Camada totalmente conectada com 128 neurônios e ativação retificadora.\n",
        "8. Camada totalmente conectada com 50 neurônios e ativação `retificadora`.\n",
        "9. Camada de saída."
      ]
    },
    {
      "cell_type": "code",
      "metadata": {
        "colab_type": "code",
        "id": "gFHBhbA48sN1",
        "colab": {}
      },
      "source": [
        "from tensorflow.keras import backend as K \n",
        "K.set_image_data_format( 'channels_last' )"
      ],
      "execution_count": 0,
      "outputs": []
    },
    {
      "cell_type": "code",
      "metadata": {
        "colab_type": "code",
        "id": "TBKkbPYgFThB",
        "outputId": "1319585d-9be3-44ba-afff-e7d954ee96da",
        "colab": {
          "base_uri": "https://localhost:8080/",
          "height": 374
        }
      },
      "source": [
        "def larger_model():\n",
        "  # create model\n",
        "  model = Sequential()\n",
        "  model.add(Conv2D(32, (3, 3), padding='VALID',\n",
        "                          input_shape=(28, 28, 1), activation= 'relu',\n",
        "                          data_format='channels_last')) \n",
        "  model.add(MaxPooling2D(pool_size=(2, 2)))\n",
        "  model.add(Conv2D(15, 3, 3, activation= 'relu' )) \n",
        "  model.add(MaxPooling2D(pool_size=(2, 2)))\n",
        "  model.add(Dropout(0.2))\n",
        "  model.add(Flatten())\n",
        "  model.add(Dense(128, activation= 'relu' ))\n",
        "  model.add(Dense(50, activation= 'relu' ))\n",
        "  model.add(Dense(num_classes, activation= 'softmax' ))\n",
        "  # Compile model\n",
        "  model.compile(loss= 'categorical_crossentropy' , optimizer= 'adam', metrics=['accuracy']) \n",
        "  return model\n",
        "\n",
        "# build the model\n",
        "model = larger_model()\n",
        "# Fit the model\n",
        "model.fit(X_train, y_train, validation_data=(X_test, y_test), epochs=10, batch_size=200, verbose=2)\n",
        "# Final evaluation of the model\n",
        "scores = model.evaluate(X_test, y_test, verbose=0) \n",
        "print(\"Large CNN Error: %.2f%%\" % (100-scores[1]*100))\n"
      ],
      "execution_count": 0,
      "outputs": [
        {
          "output_type": "stream",
          "text": [
            "Epoch 1/10\n",
            "300/300 - 18s - loss: 0.8257 - accuracy: 0.7347 - val_loss: 0.2313 - val_accuracy: 0.9316\n",
            "Epoch 2/10\n",
            "300/300 - 18s - loss: 0.3045 - accuracy: 0.9070 - val_loss: 0.1606 - val_accuracy: 0.9514\n",
            "Epoch 3/10\n",
            "300/300 - 18s - loss: 0.2405 - accuracy: 0.9260 - val_loss: 0.1250 - val_accuracy: 0.9609\n",
            "Epoch 4/10\n",
            "300/300 - 18s - loss: 0.2054 - accuracy: 0.9368 - val_loss: 0.1106 - val_accuracy: 0.9646\n",
            "Epoch 5/10\n",
            "300/300 - 18s - loss: 0.1782 - accuracy: 0.9440 - val_loss: 0.0996 - val_accuracy: 0.9674\n",
            "Epoch 6/10\n",
            "300/300 - 18s - loss: 0.1626 - accuracy: 0.9495 - val_loss: 0.0876 - val_accuracy: 0.9724\n",
            "Epoch 7/10\n",
            "300/300 - 18s - loss: 0.1487 - accuracy: 0.9521 - val_loss: 0.0785 - val_accuracy: 0.9728\n",
            "Epoch 8/10\n",
            "300/300 - 18s - loss: 0.1397 - accuracy: 0.9555 - val_loss: 0.0734 - val_accuracy: 0.9750\n",
            "Epoch 9/10\n",
            "300/300 - 18s - loss: 0.1328 - accuracy: 0.9580 - val_loss: 0.0820 - val_accuracy: 0.9730\n",
            "Epoch 10/10\n",
            "300/300 - 18s - loss: 0.1254 - accuracy: 0.9599 - val_loss: 0.0765 - val_accuracy: 0.9734\n",
            "Large CNN Error: 2.66%\n"
          ],
          "name": "stdout"
        }
      ]
    },
    {
      "cell_type": "code",
      "metadata": {
        "id": "shGaqSIp4mPA",
        "colab_type": "code",
        "colab": {}
      },
      "source": [
        ""
      ],
      "execution_count": 0,
      "outputs": []
    }
  ]
}